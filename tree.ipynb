{
 "cells": [
  {
   "cell_type": "code",
   "execution_count": 74,
   "metadata": {},
   "outputs": [],
   "source": [
    "import pandas as pd\n",
    "import numpy as np"
   ]
  },
  {
   "cell_type": "code",
   "execution_count": 75,
   "metadata": {},
   "outputs": [
    {
     "name": "stdout",
     "output_type": "stream",
     "text": [
      "        age  income student credit_rating buys_computer\n",
      "0      <=30    high      no          fair            no\n",
      "1      <=30    high      no     excellent            no\n",
      "2   31...40    high      no          fair           yes\n",
      "3       >40  medium      no          fair           yes\n",
      "4       >40     low     yes          fair           yes\n",
      "5       >40     low     yes     excellent            no\n",
      "6   31...40     low     yes     excellent           yes\n",
      "7      <=30  medium      no          fair            no\n",
      "8      <=30     low     yes          fair           yes\n",
      "9       >40  medium     yes          fair           yes\n",
      "10     <=30  medium     yes     excellent           yes\n",
      "11  31...40  medium      no     excellent           yes\n",
      "12  31...40    high     yes          fair           yes\n",
      "13      >40  medium      no     excellent            no\n"
     ]
    }
   ],
   "source": [
    "df = pd.read_csv('data.csv')\n",
    "print(df)"
   ]
  },
  {
   "cell_type": "code",
   "execution_count": 76,
   "metadata": {},
   "outputs": [
    {
     "data": {
      "text/plain": [
       "0.9402859586706311"
      ]
     },
     "execution_count": 76,
     "metadata": {},
     "output_type": "execute_result"
    }
   ],
   "source": [
    "def entropy(df: pd.DataFrame):\n",
    "    values, counts = np.unique(df, return_counts=True)\n",
    "    totalCount = np.sum(counts)\n",
    "    entropies = [-(counts[i] / totalCount) * np.log2(counts[i] / totalCount) for i in range(len(counts))]\n",
    "    \n",
    "    return np.sum(entropies)\n",
    "\n",
    "entropy(df['buys_computer'])"
   ]
  },
  {
   "cell_type": "code",
   "execution_count": 77,
   "metadata": {},
   "outputs": [
    {
     "data": {
      "text/plain": [
       "0.24674981977443933"
      ]
     },
     "execution_count": 77,
     "metadata": {},
     "output_type": "execute_result"
    }
   ],
   "source": [
    "def information_gain(df: pd.DataFrame, split_attribute_column, target_column):\n",
    "    total_entropy = entropy(df[target_column])\n",
    "    split_df = df[split_attribute_column]\n",
    "    values, counts = np. unique(split_df, return_counts=True)\n",
    "    total_count = np.sum(counts)\n",
    "    weighted_entropies = []\n",
    "    \n",
    "    for i in range(len(counts)):\n",
    "        proportions = counts[i] / total_count\n",
    "        individual_values = df.where(df[split_attribute_column] == values[i]).dropna()[target_column]\n",
    "        individual_value_entropy = entropy(individual_values)\n",
    "        weighted_entropy = proportions * individual_value_entropy\n",
    "        weighted_entropies.append(weighted_entropy)\n",
    "        \n",
    "    return total_entropy - np.sum(weighted_entropies)\n",
    "\n",
    "information_gain(df, 'age', 'buys_computer')"
   ]
  },
  {
   "cell_type": "code",
   "execution_count": 78,
   "metadata": {},
   "outputs": [
    {
     "data": {
      "text/plain": [
       "('age', 0.24674981977443933)"
      ]
     },
     "execution_count": 78,
     "metadata": {},
     "output_type": "execute_result"
    }
   ],
   "source": [
    "def get_best_feature(df, target_column):\n",
    "    features = df.columns[:-1]\n",
    "    information_gains = [information_gain(df, feature, target_column) for feature in features]\n",
    "    highest_gain_index = np.argmax(information_gains)\n",
    "    return features[highest_gain_index], information_gains[highest_gain_index] \n",
    "\n",
    "get_best_feature(df, 'buys_computer')"
   ]
  },
  {
   "cell_type": "code",
   "execution_count": 79,
   "metadata": {},
   "outputs": [
    {
     "name": "stdout",
     "output_type": "stream",
     "text": [
      "0        <=30\n",
      "1        <=30\n",
      "2     31...40\n",
      "3         >40\n",
      "4         >40\n",
      "5         >40\n",
      "6     31...40\n",
      "7        <=30\n",
      "8        <=30\n",
      "9         >40\n",
      "10       <=30\n",
      "11    31...40\n",
      "12    31...40\n",
      "13        >40\n",
      "Name: age, dtype: object\n",
      "        age  income student credit_rating buys_computer\n",
      "2   31...40    high      no          fair           yes\n",
      "6   31...40     low     yes     excellent           yes\n",
      "11  31...40  medium      no     excellent           yes\n",
      "12  31...40    high     yes          fair           yes\n",
      "     age  income student credit_rating buys_computer\n",
      "0   <=30    high      no          fair            no\n",
      "1   <=30    high      no     excellent            no\n",
      "7   <=30  medium      no          fair            no\n",
      "8   <=30     low     yes          fair           yes\n",
      "10  <=30  medium     yes     excellent           yes\n",
      "    age  income student credit_rating buys_computer\n",
      "3   >40  medium      no          fair           yes\n",
      "4   >40     low     yes          fair           yes\n",
      "5   >40     low     yes     excellent            no\n",
      "9   >40  medium     yes          fair           yes\n",
      "13  >40  medium      no     excellent            no\n"
     ]
    }
   ],
   "source": [
    "best_feature, best_feature_score = get_best_feature(df, 'buys_computer')\n",
    "print(df[best_feature])\n",
    "for value in np.unique(df[best_feature]):\n",
    "    print(df.where(df[best_feature] == value).dropna())\n",
    "    pass"
   ]
  }
 ],
 "metadata": {
  "kernelspec": {
   "display_name": "Python 3",
   "language": "python",
   "name": "python3"
  },
  "language_info": {
   "codemirror_mode": {
    "name": "ipython",
    "version": 3
   },
   "file_extension": ".py",
   "mimetype": "text/x-python",
   "name": "python",
   "nbconvert_exporter": "python",
   "pygments_lexer": "ipython3",
   "version": "3.11.1"
  }
 },
 "nbformat": 4,
 "nbformat_minor": 2
}
